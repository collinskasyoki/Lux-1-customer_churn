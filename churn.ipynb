{
 "cells": [
  {
   "cell_type": "code",
   "execution_count": 1,
   "id": "e3bec3a9-8c2c-4c8f-b90b-21d39a19a1b9",
   "metadata": {
    "tags": []
   },
   "outputs": [],
   "source": [
    "import pandas as pd\n",
    "from sklearn.model_selection import train_test_split\n",
    "from sklearn.linear_model import LogisticRegression\n",
    "from sklearn.metrics import accuracy_score, classification_report\n",
    "from sklearn.preprocessing import LabelEncoder\n",
    "from xgboost import XGBClassifier\n",
    "from datetime import datetime"
   ]
  },
  {
   "cell_type": "code",
   "execution_count": 2,
   "id": "8bd7dd2d-4446-4bc2-be80-ccb7db9c97d4",
   "metadata": {
    "tags": []
   },
   "outputs": [],
   "source": [
    "df = pd.read_csv('data.csv')"
   ]
  },
  {
   "cell_type": "code",
   "execution_count": 3,
   "id": "d4813c08-45bf-4712-a523-33858fa24b05",
   "metadata": {
    "tags": []
   },
   "outputs": [
    {
     "data": {
      "text/html": [
       "<div>\n",
       "<style scoped>\n",
       "    .dataframe tbody tr th:only-of-type {\n",
       "        vertical-align: middle;\n",
       "    }\n",
       "\n",
       "    .dataframe tbody tr th {\n",
       "        vertical-align: top;\n",
       "    }\n",
       "\n",
       "    .dataframe thead th {\n",
       "        text-align: right;\n",
       "    }\n",
       "</style>\n",
       "<table border=\"1\" class=\"dataframe\">\n",
       "  <thead>\n",
       "    <tr style=\"text-align: right;\">\n",
       "      <th></th>\n",
       "      <th>CustomerID</th>\n",
       "      <th>Name</th>\n",
       "      <th>Age</th>\n",
       "      <th>MonthlyBill</th>\n",
       "      <th>DataUsageGB</th>\n",
       "      <th>ContractMonths</th>\n",
       "      <th>DevicesOwned</th>\n",
       "      <th>Exited</th>\n",
       "      <th>PhoneNumber</th>\n",
       "      <th>EmailAddress</th>\n",
       "      <th>City</th>\n",
       "      <th>State</th>\n",
       "      <th>ZipCode</th>\n",
       "      <th>PlanType</th>\n",
       "      <th>TotalSpent</th>\n",
       "      <th>CustomerSince</th>\n",
       "      <th>LastInteraction</th>\n",
       "    </tr>\n",
       "  </thead>\n",
       "  <tbody>\n",
       "    <tr>\n",
       "      <th>0</th>\n",
       "      <td>1616ab20-0dd5-43bb-a57c-62b57a4d3886</td>\n",
       "      <td>Karen Wilson</td>\n",
       "      <td>29</td>\n",
       "      <td>195.70</td>\n",
       "      <td>4.53</td>\n",
       "      <td>12</td>\n",
       "      <td>2</td>\n",
       "      <td>1</td>\n",
       "      <td>635-202-1002x5152</td>\n",
       "      <td>samanthasparks@example.org</td>\n",
       "      <td>North Donna</td>\n",
       "      <td>Kentucky</td>\n",
       "      <td>16336</td>\n",
       "      <td>Standard</td>\n",
       "      <td>612.42</td>\n",
       "      <td>2021-11-02</td>\n",
       "      <td>2023-01-30</td>\n",
       "    </tr>\n",
       "    <tr>\n",
       "      <th>1</th>\n",
       "      <td>0d46fa0e-7bb9-4338-9633-90e2731c69f6</td>\n",
       "      <td>Haley Benson</td>\n",
       "      <td>25</td>\n",
       "      <td>100.71</td>\n",
       "      <td>6.32</td>\n",
       "      <td>12</td>\n",
       "      <td>5</td>\n",
       "      <td>0</td>\n",
       "      <td>001-990-507-9036x985</td>\n",
       "      <td>justintucker@example.com</td>\n",
       "      <td>Lake Ashley</td>\n",
       "      <td>South Dakota</td>\n",
       "      <td>1958</td>\n",
       "      <td>Premium</td>\n",
       "      <td>528.82</td>\n",
       "      <td>2020-04-05</td>\n",
       "      <td>2023-01-04</td>\n",
       "    </tr>\n",
       "    <tr>\n",
       "      <th>2</th>\n",
       "      <td>15849c43-75e3-46fa-b1ec-e589758552c3</td>\n",
       "      <td>Troy Friedman</td>\n",
       "      <td>63</td>\n",
       "      <td>179.56</td>\n",
       "      <td>8.44</td>\n",
       "      <td>24</td>\n",
       "      <td>2</td>\n",
       "      <td>0</td>\n",
       "      <td>(755)329-2708x74703</td>\n",
       "      <td>alyssa08@example.net</td>\n",
       "      <td>Johnsonmouth</td>\n",
       "      <td>Delaware</td>\n",
       "      <td>39715</td>\n",
       "      <td>Premium</td>\n",
       "      <td>710.03</td>\n",
       "      <td>2019-05-22</td>\n",
       "      <td>2022-11-16</td>\n",
       "    </tr>\n",
       "    <tr>\n",
       "      <th>3</th>\n",
       "      <td>febd1d22-6358-4b2d-9a4e-f33e5833391d</td>\n",
       "      <td>Lisa Moore</td>\n",
       "      <td>62</td>\n",
       "      <td>121.10</td>\n",
       "      <td>3.81</td>\n",
       "      <td>24</td>\n",
       "      <td>1</td>\n",
       "      <td>0</td>\n",
       "      <td>+1-900-342-7352x40670</td>\n",
       "      <td>amandawhitehead@example.com</td>\n",
       "      <td>East Anthonybury</td>\n",
       "      <td>Alabama</td>\n",
       "      <td>87890</td>\n",
       "      <td>Basic</td>\n",
       "      <td>119.19</td>\n",
       "      <td>2020-10-24</td>\n",
       "      <td>2023-02-21</td>\n",
       "    </tr>\n",
       "    <tr>\n",
       "      <th>4</th>\n",
       "      <td>58a0a76b-2a68-45ed-b512-b64a31e5094a</td>\n",
       "      <td>Ryan Garrison</td>\n",
       "      <td>27</td>\n",
       "      <td>108.99</td>\n",
       "      <td>6.59</td>\n",
       "      <td>36</td>\n",
       "      <td>3</td>\n",
       "      <td>1</td>\n",
       "      <td>(351)367-6820x10664</td>\n",
       "      <td>wcollins@example.com</td>\n",
       "      <td>Williamston</td>\n",
       "      <td>South Carolina</td>\n",
       "      <td>79380</td>\n",
       "      <td>Basic</td>\n",
       "      <td>642.76</td>\n",
       "      <td>2021-06-17</td>\n",
       "      <td>2023-04-15</td>\n",
       "    </tr>\n",
       "  </tbody>\n",
       "</table>\n",
       "</div>"
      ],
      "text/plain": [
       "                             CustomerID           Name  Age  MonthlyBill  \\\n",
       "0  1616ab20-0dd5-43bb-a57c-62b57a4d3886   Karen Wilson   29       195.70   \n",
       "1  0d46fa0e-7bb9-4338-9633-90e2731c69f6   Haley Benson   25       100.71   \n",
       "2  15849c43-75e3-46fa-b1ec-e589758552c3  Troy Friedman   63       179.56   \n",
       "3  febd1d22-6358-4b2d-9a4e-f33e5833391d     Lisa Moore   62       121.10   \n",
       "4  58a0a76b-2a68-45ed-b512-b64a31e5094a  Ryan Garrison   27       108.99   \n",
       "\n",
       "   DataUsageGB  ContractMonths  DevicesOwned  Exited            PhoneNumber  \\\n",
       "0         4.53              12             2       1      635-202-1002x5152   \n",
       "1         6.32              12             5       0   001-990-507-9036x985   \n",
       "2         8.44              24             2       0    (755)329-2708x74703   \n",
       "3         3.81              24             1       0  +1-900-342-7352x40670   \n",
       "4         6.59              36             3       1    (351)367-6820x10664   \n",
       "\n",
       "                  EmailAddress              City           State  ZipCode  \\\n",
       "0   samanthasparks@example.org       North Donna        Kentucky    16336   \n",
       "1     justintucker@example.com       Lake Ashley    South Dakota     1958   \n",
       "2         alyssa08@example.net      Johnsonmouth        Delaware    39715   \n",
       "3  amandawhitehead@example.com  East Anthonybury         Alabama    87890   \n",
       "4         wcollins@example.com       Williamston  South Carolina    79380   \n",
       "\n",
       "   PlanType  TotalSpent CustomerSince LastInteraction  \n",
       "0  Standard      612.42    2021-11-02      2023-01-30  \n",
       "1   Premium      528.82    2020-04-05      2023-01-04  \n",
       "2   Premium      710.03    2019-05-22      2022-11-16  \n",
       "3     Basic      119.19    2020-10-24      2023-02-21  \n",
       "4     Basic      642.76    2021-06-17      2023-04-15  "
      ]
     },
     "execution_count": 3,
     "metadata": {},
     "output_type": "execute_result"
    }
   ],
   "source": [
    "df.head()"
   ]
  },
  {
   "cell_type": "code",
   "execution_count": 4,
   "id": "e7c356be-1e02-49e6-8480-be0aee110b9e",
   "metadata": {
    "tags": []
   },
   "outputs": [],
   "source": [
    "# Preprocessing\n",
    "df = df.drop(columns=['CustomerID', 'Name', 'PhoneNumber', 'EmailAddress', 'City'])"
   ]
  },
  {
   "cell_type": "code",
   "execution_count": 5,
   "id": "be369365-ec0e-4270-9965-86d4843177b5",
   "metadata": {
    "tags": []
   },
   "outputs": [
    {
     "data": {
      "text/html": [
       "<div>\n",
       "<style scoped>\n",
       "    .dataframe tbody tr th:only-of-type {\n",
       "        vertical-align: middle;\n",
       "    }\n",
       "\n",
       "    .dataframe tbody tr th {\n",
       "        vertical-align: top;\n",
       "    }\n",
       "\n",
       "    .dataframe thead th {\n",
       "        text-align: right;\n",
       "    }\n",
       "</style>\n",
       "<table border=\"1\" class=\"dataframe\">\n",
       "  <thead>\n",
       "    <tr style=\"text-align: right;\">\n",
       "      <th></th>\n",
       "      <th>Age</th>\n",
       "      <th>MonthlyBill</th>\n",
       "      <th>DataUsageGB</th>\n",
       "      <th>ContractMonths</th>\n",
       "      <th>DevicesOwned</th>\n",
       "      <th>Exited</th>\n",
       "      <th>State</th>\n",
       "      <th>ZipCode</th>\n",
       "      <th>PlanType</th>\n",
       "      <th>TotalSpent</th>\n",
       "      <th>CustomerSince</th>\n",
       "      <th>LastInteraction</th>\n",
       "    </tr>\n",
       "  </thead>\n",
       "  <tbody>\n",
       "    <tr>\n",
       "      <th>0</th>\n",
       "      <td>29</td>\n",
       "      <td>195.70</td>\n",
       "      <td>4.53</td>\n",
       "      <td>12</td>\n",
       "      <td>2</td>\n",
       "      <td>1</td>\n",
       "      <td>Kentucky</td>\n",
       "      <td>16336</td>\n",
       "      <td>Standard</td>\n",
       "      <td>612.42</td>\n",
       "      <td>2021-11-02</td>\n",
       "      <td>2023-01-30</td>\n",
       "    </tr>\n",
       "    <tr>\n",
       "      <th>1</th>\n",
       "      <td>25</td>\n",
       "      <td>100.71</td>\n",
       "      <td>6.32</td>\n",
       "      <td>12</td>\n",
       "      <td>5</td>\n",
       "      <td>0</td>\n",
       "      <td>South Dakota</td>\n",
       "      <td>1958</td>\n",
       "      <td>Premium</td>\n",
       "      <td>528.82</td>\n",
       "      <td>2020-04-05</td>\n",
       "      <td>2023-01-04</td>\n",
       "    </tr>\n",
       "    <tr>\n",
       "      <th>2</th>\n",
       "      <td>63</td>\n",
       "      <td>179.56</td>\n",
       "      <td>8.44</td>\n",
       "      <td>24</td>\n",
       "      <td>2</td>\n",
       "      <td>0</td>\n",
       "      <td>Delaware</td>\n",
       "      <td>39715</td>\n",
       "      <td>Premium</td>\n",
       "      <td>710.03</td>\n",
       "      <td>2019-05-22</td>\n",
       "      <td>2022-11-16</td>\n",
       "    </tr>\n",
       "    <tr>\n",
       "      <th>3</th>\n",
       "      <td>62</td>\n",
       "      <td>121.10</td>\n",
       "      <td>3.81</td>\n",
       "      <td>24</td>\n",
       "      <td>1</td>\n",
       "      <td>0</td>\n",
       "      <td>Alabama</td>\n",
       "      <td>87890</td>\n",
       "      <td>Basic</td>\n",
       "      <td>119.19</td>\n",
       "      <td>2020-10-24</td>\n",
       "      <td>2023-02-21</td>\n",
       "    </tr>\n",
       "    <tr>\n",
       "      <th>4</th>\n",
       "      <td>27</td>\n",
       "      <td>108.99</td>\n",
       "      <td>6.59</td>\n",
       "      <td>36</td>\n",
       "      <td>3</td>\n",
       "      <td>1</td>\n",
       "      <td>South Carolina</td>\n",
       "      <td>79380</td>\n",
       "      <td>Basic</td>\n",
       "      <td>642.76</td>\n",
       "      <td>2021-06-17</td>\n",
       "      <td>2023-04-15</td>\n",
       "    </tr>\n",
       "  </tbody>\n",
       "</table>\n",
       "</div>"
      ],
      "text/plain": [
       "   Age  MonthlyBill  DataUsageGB  ContractMonths  DevicesOwned  Exited  \\\n",
       "0   29       195.70         4.53              12             2       1   \n",
       "1   25       100.71         6.32              12             5       0   \n",
       "2   63       179.56         8.44              24             2       0   \n",
       "3   62       121.10         3.81              24             1       0   \n",
       "4   27       108.99         6.59              36             3       1   \n",
       "\n",
       "            State  ZipCode  PlanType  TotalSpent CustomerSince LastInteraction  \n",
       "0        Kentucky    16336  Standard      612.42    2021-11-02      2023-01-30  \n",
       "1    South Dakota     1958   Premium      528.82    2020-04-05      2023-01-04  \n",
       "2        Delaware    39715   Premium      710.03    2019-05-22      2022-11-16  \n",
       "3         Alabama    87890     Basic      119.19    2020-10-24      2023-02-21  \n",
       "4  South Carolina    79380     Basic      642.76    2021-06-17      2023-04-15  "
      ]
     },
     "execution_count": 5,
     "metadata": {},
     "output_type": "execute_result"
    }
   ],
   "source": [
    "df.head()"
   ]
  },
  {
   "cell_type": "code",
   "execution_count": 6,
   "id": "9317c377-a488-44fa-932b-742e2eb87593",
   "metadata": {
    "tags": []
   },
   "outputs": [],
   "source": [
    "## Converting PlanType, State, and ZipCode to numerical\n",
    "le = LabelEncoder()\n",
    "df['PlanType'] = le.fit_transform(df['PlanType'])\n",
    "df['State'] = le.fit_transform(df['State'])\n",
    "df['ZipCode'] = le.fit_transform(df['ZipCode'])"
   ]
  },
  {
   "cell_type": "code",
   "execution_count": 7,
   "id": "52fd2511-8b41-42a3-8343-117884e7f0d5",
   "metadata": {
    "tags": []
   },
   "outputs": [],
   "source": [
    "## Converting date columns to datetime\n",
    "df['CustomerSince'] = pd.to_datetime(df['CustomerSince'])\n",
    "df['LastInteraction'] = pd.to_datetime(df['LastInteraction'])"
   ]
  },
  {
   "cell_type": "code",
   "execution_count": 8,
   "id": "15600d8d-8898-4d55-9e19-d758c658b210",
   "metadata": {
    "tags": []
   },
   "outputs": [],
   "source": [
    "## Calculating total months since customers joined and last interacted with the company\n",
    "df['MonthsCustomerSince'] = (datetime.now() - df['CustomerSince']).dt.days // 30\n",
    "df['MonthsSinceLastInteraction'] = (datetime.now() - df['LastInteraction']).dt.days // 30"
   ]
  },
  {
   "cell_type": "code",
   "execution_count": 9,
   "id": "0a2998eb-3091-41de-aedc-7fb55adefe38",
   "metadata": {
    "tags": []
   },
   "outputs": [],
   "source": [
    "## Features vs target variable\n",
    "x = df[['Age', 'MonthlyBill', 'DataUsageGB', 'ContractMonths', 'DevicesOwned', 'State', 'PlanType', 'TotalSpent', 'MonthsCustomerSince', 'MonthsSinceLastInteraction']]\n",
    "y = df['Exited']"
   ]
  },
  {
   "cell_type": "code",
   "execution_count": 10,
   "id": "84747290-18e9-4b4b-8be7-f1a4a0739037",
   "metadata": {
    "tags": []
   },
   "outputs": [],
   "source": [
    "# Split to train & test sets\n",
    "x_train, x_test, y_train, y_test = train_test_split(x, y, test_size=0.2, random_state=30)"
   ]
  },
  {
   "cell_type": "code",
   "execution_count": 11,
   "id": "bbced6d2-19af-4daf-8015-2c0b6d5aafcf",
   "metadata": {
    "tags": []
   },
   "outputs": [
    {
     "name": "stdout",
     "output_type": "stream",
     "text": [
      "              precision    recall  f1-score   support\n",
      "\n",
      "           0       0.49      0.60      0.54       292\n",
      "           1       0.52      0.42      0.46       306\n",
      "\n",
      "    accuracy                           0.50       598\n",
      "   macro avg       0.51      0.51      0.50       598\n",
      "weighted avg       0.51      0.50      0.50       598\n",
      "\n"
     ]
    },
    {
     "name": "stderr",
     "output_type": "stream",
     "text": [
      "/opt/anaconda3/lib/python3.11/site-packages/sklearn/linear_model/_logistic.py:460: ConvergenceWarning: lbfgs failed to converge (status=1):\n",
      "STOP: TOTAL NO. of ITERATIONS REACHED LIMIT.\n",
      "\n",
      "Increase the number of iterations (max_iter) or scale the data as shown in:\n",
      "    https://scikit-learn.org/stable/modules/preprocessing.html\n",
      "Please also refer to the documentation for alternative solver options:\n",
      "    https://scikit-learn.org/stable/modules/linear_model.html#logistic-regression\n",
      "  n_iter_i = _check_optimize_result(\n"
     ]
    }
   ],
   "source": [
    "model = LogisticRegression()\n",
    "model.fit(x_train, y_train)\n",
    "y_pred = model.predict(x_test)\n",
    "print(classification_report(y_test, y_pred))"
   ]
  },
  {
   "cell_type": "code",
   "execution_count": 12,
   "id": "04c67bf9-03ab-4a31-8a27-7b765f07ed4f",
   "metadata": {
    "tags": []
   },
   "outputs": [
    {
     "name": "stdout",
     "output_type": "stream",
     "text": [
      "              precision    recall  f1-score   support\n",
      "\n",
      "           0       0.48      0.51      0.49       292\n",
      "           1       0.50      0.47      0.48       306\n",
      "\n",
      "    accuracy                           0.49       598\n",
      "   macro avg       0.49      0.49      0.49       598\n",
      "weighted avg       0.49      0.49      0.49       598\n",
      "\n"
     ]
    }
   ],
   "source": [
    "model2 = XGBClassifier()\n",
    "model2.fit(x_train, y_train)\n",
    "y2_pred = model2.predict(x_test)\n",
    "print(classification_report(y_test, y2_pred))"
   ]
  },
  {
   "cell_type": "code",
   "execution_count": null,
   "id": "cd02a124-9f40-42f3-a768-e0fc68702312",
   "metadata": {},
   "outputs": [],
   "source": []
  }
 ],
 "metadata": {
  "kernelspec": {
   "display_name": "Python 3 (ipykernel)",
   "language": "python",
   "name": "python3"
  },
  "language_info": {
   "codemirror_mode": {
    "name": "ipython",
    "version": 3
   },
   "file_extension": ".py",
   "mimetype": "text/x-python",
   "name": "python",
   "nbconvert_exporter": "python",
   "pygments_lexer": "ipython3",
   "version": "3.11.4"
  }
 },
 "nbformat": 4,
 "nbformat_minor": 5
}
